{
 "cells": [
  {
   "cell_type": "code",
   "execution_count": 1,
   "metadata": {},
   "outputs": [],
   "source": [
    "from Dataset import CustomDataset\n",
    "from torch.utils.data import DataLoader\n",
    "from torch.utils.data import random_split\n",
    "from model import RiceDetector\n",
    "from torchsummary import summary\n",
    "import torch.optim\n",
    "import torch.nn as nn\n",
    "from tqdm import tqdm\n",
    "import matplotlib.pyplot as plt\n",
    "import numpy as np\n",
    "import pandas as pd"
   ]
  },
  {
   "cell_type": "code",
   "execution_count": 2,
   "metadata": {},
   "outputs": [
    {
     "data": {
      "text/plain": [
       "75000"
      ]
     },
     "execution_count": 2,
     "metadata": {},
     "output_type": "execute_result"
    }
   ],
   "source": [
    "dataset = CustomDataset(\"Data/labels/label_csv.csv\", \"Data/images/\")\n",
    "len(dataset)"
   ]
  },
  {
   "cell_type": "code",
   "execution_count": 3,
   "metadata": {},
   "outputs": [
    {
     "name": "stdout",
     "output_type": "stream",
     "text": [
      "60000\n",
      "7500\n",
      "7500\n"
     ]
    }
   ],
   "source": [
    "train_len = int(len(dataset) * 0.8)\n",
    "val_len = int(len(dataset) * 0.1)\n",
    "test_len = int(len(dataset) * 0.1)\n",
    "print(train_len)\n",
    "print(val_len)\n",
    "print(test_len)\n",
    "train_data, val_data, test_data = random_split(dataset, lengths=[train_len, val_len, test_len])"
   ]
  },
  {
   "cell_type": "code",
   "execution_count": 4,
   "metadata": {},
   "outputs": [
    {
     "data": {
      "text/plain": [
       "torch.Size([3, 250, 250])"
      ]
     },
     "execution_count": 4,
     "metadata": {},
     "output_type": "execute_result"
    }
   ],
   "source": [
    "train_data.__getitem__(0)[0].shape"
   ]
  },
  {
   "cell_type": "code",
   "execution_count": 5,
   "metadata": {},
   "outputs": [],
   "source": [
    "train_loader, val_loader, test_loader = DataLoader(train_data, 64), DataLoader(val_data, 64), DataLoader(test_data, 1)"
   ]
  },
  {
   "cell_type": "code",
   "execution_count": 6,
   "metadata": {},
   "outputs": [
    {
     "data": {
      "text/plain": [
       "RiceDetector(\n",
       "  (conv_1): Conv2d(3, 64, kernel_size=(3, 3), stride=(1, 1))\n",
       "  (pool_1): MaxPool2d(kernel_size=(2, 2), stride=(2, 2), padding=0, dilation=1, ceil_mode=False)\n",
       "  (conv_2): Conv2d(64, 128, kernel_size=(5, 5), stride=(1, 1))\n",
       "  (pool_2): MaxPool2d(kernel_size=(2, 2), stride=(2, 2), padding=0, dilation=1, ceil_mode=False)\n",
       "  (conv_3): Conv2d(128, 256, kernel_size=(5, 5), stride=(1, 1))\n",
       "  (pool_3): MaxPool2d(kernel_size=(2, 2), stride=(2, 2), padding=0, dilation=1, ceil_mode=False)\n",
       "  (conv_4): Conv2d(256, 128, kernel_size=(3, 3), stride=(1, 1))\n",
       "  (pool_4): MaxPool2d(kernel_size=(2, 2), stride=(2, 2), padding=0, dilation=1, ceil_mode=False)\n",
       "  (fc_1): Linear(in_features=21632, out_features=1024, bias=True)\n",
       "  (fc_2): Linear(in_features=1024, out_features=1024, bias=True)\n",
       "  (fc_3): Linear(in_features=1024, out_features=5, bias=True)\n",
       "  (relu): ReLU()\n",
       "  (flatten): Flatten(start_dim=1, end_dim=-1)\n",
       "  (batch_norm_1): BatchNorm2d(3, eps=1e-05, momentum=0.1, affine=True, track_running_stats=True)\n",
       "  (batch_norm_2): BatchNorm2d(64, eps=1e-05, momentum=0.1, affine=True, track_running_stats=True)\n",
       "  (batch_norm_3): BatchNorm2d(128, eps=1e-05, momentum=0.1, affine=True, track_running_stats=True)\n",
       "  (batch_norm_4): BatchNorm2d(256, eps=1e-05, momentum=0.1, affine=True, track_running_stats=True)\n",
       ")"
      ]
     },
     "execution_count": 6,
     "metadata": {},
     "output_type": "execute_result"
    }
   ],
   "source": [
    "model = RiceDetector()\n",
    "model.to(\"cuda\")"
   ]
  },
  {
   "cell_type": "code",
   "execution_count": 7,
   "metadata": {},
   "outputs": [],
   "source": [
    "log = pd.DataFrame(columns=[\"Epoch\", \"Train Loss\", \"Train Accuracy\", \"Validation Loss\", \"Validation Accuracy\"])"
   ]
  },
  {
   "cell_type": "code",
   "execution_count": 8,
   "metadata": {},
   "outputs": [
    {
     "name": "stderr",
     "output_type": "stream",
     "text": [
      "Train loop: 100%|██████████| 938/938 [04:28<00:00,  3.50it/s]\n",
      "Validation loop: 100%|██████████| 118/118 [00:15<00:00,  7.48it/s]\n"
     ]
    },
    {
     "name": "stdout",
     "output_type": "stream",
     "text": [
      "epoch 0 , Train Loss: 0.15731341531698798, Train Accuracy: 0.9438333333333333, Val Loss: 0.1162231081496861, Val Accuracy: 0.9618666666666666\n"
     ]
    },
    {
     "name": "stderr",
     "output_type": "stream",
     "text": [
      "Train loop: 100%|██████████| 938/938 [04:50<00:00,  3.23it/s]\n",
      "Validation loop: 100%|██████████| 118/118 [00:17<00:00,  6.93it/s]\n"
     ]
    },
    {
     "name": "stdout",
     "output_type": "stream",
     "text": [
      "epoch 1 , Train Loss: 0.073023523439962, Train Accuracy: 0.9754333333333334, Val Loss: 0.048260959400006145, Val Accuracy: 0.9878666666666667\n"
     ]
    },
    {
     "name": "stderr",
     "output_type": "stream",
     "text": [
      "Train loop: 100%|██████████| 938/938 [04:55<00:00,  3.17it/s]\n",
      "Validation loop: 100%|██████████| 118/118 [00:16<00:00,  7.05it/s]\n"
     ]
    },
    {
     "name": "stdout",
     "output_type": "stream",
     "text": [
      "epoch 2 , Train Loss: 0.03281056056245178, Train Accuracy: 0.9896833333333334, Val Loss: 0.0470575497454127, Val Accuracy: 0.9864\n"
     ]
    },
    {
     "name": "stderr",
     "output_type": "stream",
     "text": [
      "Train loop: 100%|██████████| 938/938 [04:56<00:00,  3.17it/s]\n",
      "Validation loop: 100%|██████████| 118/118 [00:17<00:00,  6.85it/s]\n"
     ]
    },
    {
     "name": "stdout",
     "output_type": "stream",
     "text": [
      "epoch 3 , Train Loss: 0.029080730343948917, Train Accuracy: 0.9905166666666667, Val Loss: 0.023548394492906282, Val Accuracy: 0.9937333333333334\n"
     ]
    },
    {
     "name": "stderr",
     "output_type": "stream",
     "text": [
      "Train loop: 100%|██████████| 938/938 [04:55<00:00,  3.18it/s]\n",
      "Validation loop: 100%|██████████| 118/118 [00:16<00:00,  7.10it/s]"
     ]
    },
    {
     "name": "stdout",
     "output_type": "stream",
     "text": [
      "epoch 4 , Train Loss: 0.02185827173758174, Train Accuracy: 0.9929833333333333, Val Loss: 0.020480550979007573, Val Accuracy: 0.9941333333333333\n"
     ]
    },
    {
     "name": "stderr",
     "output_type": "stream",
     "text": [
      "\n"
     ]
    }
   ],
   "source": [
    "optimizer = torch.optim.Adam(model.parameters(), lr=1e-3)\n",
    "loss_fn = nn.CrossEntropyLoss()\n",
    "\n",
    "total_train_loss = []\n",
    "total_val_loss = []\n",
    "\n",
    "best_model_val = 1\n",
    "best_model = None\n",
    "\n",
    "epochs = 5\n",
    "for epoch in range(0, epochs):\n",
    "    # Training\n",
    "    model.train()\n",
    "    totalTrainLoss = 0\n",
    "    totalValLoss = 0\n",
    "    trainCorrect = 0\n",
    "    valCorrect = 0\n",
    "    \n",
    "    epoch_train_pred = []\n",
    "    for x_batch, y_batch in tqdm(train_loader, desc=\"Train loop: \"):\n",
    "        optimizer.zero_grad()\n",
    "        x_batch = x_batch.to(\"cuda\")\n",
    "        y_batch = y_batch.to(\"cuda\")\n",
    "        y_batch = nn.functional.one_hot(y_batch, 5).float().to(\"cuda\")\n",
    "        pred = model(x_batch)\n",
    "        loss = loss_fn(pred, y_batch)\n",
    "        loss.backward()\n",
    "        totalTrainLoss += loss.item()\n",
    "        optimizer.step()\n",
    "        \n",
    "        trainCorrect += (pred.argmax(1) == y_batch.argmax(1)).sum().item()\n",
    "        \n",
    "        \n",
    "    # validation\n",
    "    with torch.no_grad():\n",
    "        model.eval()\n",
    "        val_loss = 0.0\n",
    "        valCorrect = 0\n",
    "        for x_batch, y_batch in tqdm(val_loader, desc= \"Validation loop: \"):\n",
    "            x_batch = x_batch.to(\"cuda\")\n",
    "            y_batch = y_batch.to(\"cuda\")\n",
    "            y_batch = nn.functional.one_hot(y_batch, 5).float().to(\"cuda\")\n",
    "            pred = model(x_batch)\n",
    "            loss = loss_fn(pred, y_batch)\n",
    "            totalValLoss += loss.item()\n",
    "            \n",
    "            valCorrect += (pred.argmax(1) == y_batch.argmax(1)).sum().item()\n",
    "    \n",
    "    # best model check\n",
    "    if not best_model or valCorrect > best_model_val:\n",
    "        best_model = model\n",
    "        best_model_val = valCorrect\n",
    "    \n",
    "    # print for debug\n",
    "    total_train_loss.append(totalTrainLoss/len(train_loader))\n",
    "    total_val_loss.append(totalValLoss/len(val_loader))\n",
    "    print(\"epoch {} , Train Loss: {}, Train Accuracy: {}, Val Loss: {}, Val Accuracy: {}\".format(epoch, totalTrainLoss/len(train_loader), trainCorrect/len(train_data), totalValLoss/len(val_loader), valCorrect/len(val_data)))\n",
    "    \n",
    "    # Add to log\n",
    "    epoch_data = [epoch, totalTrainLoss/len(train_loader), trainCorrect/len(train_data), totalValLoss/len(val_loader), valCorrect/len(val_data)]\n",
    "    log.add(epoch_data)\n",
    "    "
   ]
  },
  {
   "cell_type": "code",
   "execution_count": 9,
   "metadata": {},
   "outputs": [
    {
     "data": {
      "image/png": "[encoded data removed]",
      "text/plain": [
       "<Figure size 640x480 with 1 Axes>"
      ]
     },
     "metadata": {},
     "output_type": "display_data"
    }
   ],
   "source": [
    "plt.plot(np.arange(0, epochs, 1), total_train_loss, 'g', label=\"Training Loss\")\n",
    "plt.plot(np.arange(0, epochs, 1), total_val_loss, 'b', label=\"Validation Loss\")\n",
    "plt.title(\"Training and Validation Loss\")\n",
    "plt.xlabel(\"Epochs\")\n",
    "plt.ylabel(\"Loss\")\n",
    "plt.legend()\n",
    "plt.show()\n"
   ]
  },
  {
   "cell_type": "code",
   "execution_count": 10,
   "metadata": {},
   "outputs": [],
   "source": [
    "# save log\n",
    "log.to_csv(\"Logs/log_1.csv\")"
   ]
  },
  {
   "cell_type": "code",
   "execution_count": 11,
   "metadata": {},
   "outputs": [
    {
     "name": "stderr",
     "output_type": "stream",
     "text": [
      "test loop: 100%|██████████| 7500/7500 [00:21<00:00, 348.27it/s]"
     ]
    },
    {
     "name": "stdout",
     "output_type": "stream",
     "text": [
      "Test Accuracy: 0.9941333333333333\n"
     ]
    },
    {
     "name": "stderr",
     "output_type": "stream",
     "text": [
      "\n"
     ]
    }
   ],
   "source": [
    "with torch.no_grad():\n",
    "        model.eval()\n",
    "        testCorrect = 0\n",
    "        for x_batch, y_batch in tqdm(test_loader, desc= \"test loop: \"):\n",
    "            x_batch = x_batch.to(\"cuda\")\n",
    "            y_batch = y_batch.to(\"cuda\")\n",
    "            y_batch = nn.functional.one_hot(y_batch, 5).float().to(\"cuda\")\n",
    "            pred = model(x_batch)\n",
    "            \n",
    "            testCorrect += (pred.argmax(1) == y_batch.argmax(1)).sum().item()\n",
    "        \n",
    "        print(\"Test Accuracy: {}\".format(testCorrect/len(test_loader)))"
   ]
  },
  {
   "cell_type": "code",
   "execution_count": 12,
   "metadata": {},
   "outputs": [],
   "source": [
    "torch.save(model.to(\"cpu\").state_dict(), \"models/model_2.pt\")"
   ]
  },
  {
   "cell_type": "code",
   "execution_count": 13,
   "metadata": {},
   "outputs": [
    {
     "data": {
      "text/plain": [
       "RiceDetector(\n",
       "  (conv_1): Conv2d(3, 64, kernel_size=(3, 3), stride=(1, 1))\n",
       "  (pool_1): MaxPool2d(kernel_size=(2, 2), stride=(2, 2), padding=0, dilation=1, ceil_mode=False)\n",
       "  (conv_2): Conv2d(64, 128, kernel_size=(5, 5), stride=(1, 1))\n",
       "  (pool_2): MaxPool2d(kernel_size=(2, 2), stride=(2, 2), padding=0, dilation=1, ceil_mode=False)\n",
       "  (conv_3): Conv2d(128, 256, kernel_size=(5, 5), stride=(1, 1))\n",
       "  (pool_3): MaxPool2d(kernel_size=(2, 2), stride=(2, 2), padding=0, dilation=1, ceil_mode=False)\n",
       "  (conv_4): Conv2d(256, 128, kernel_size=(3, 3), stride=(1, 1))\n",
       "  (pool_4): MaxPool2d(kernel_size=(2, 2), stride=(2, 2), padding=0, dilation=1, ceil_mode=False)\n",
       "  (fc_1): Linear(in_features=21632, out_features=1024, bias=True)\n",
       "  (fc_2): Linear(in_features=1024, out_features=1024, bias=True)\n",
       "  (fc_3): Linear(in_features=1024, out_features=5, bias=True)\n",
       "  (relu): ReLU()\n",
       "  (flatten): Flatten(start_dim=1, end_dim=-1)\n",
       "  (batch_norm_1): BatchNorm2d(3, eps=1e-05, momentum=0.1, affine=True, track_running_stats=True)\n",
       "  (batch_norm_2): BatchNorm2d(64, eps=1e-05, momentum=0.1, affine=True, track_running_stats=True)\n",
       "  (batch_norm_3): BatchNorm2d(128, eps=1e-05, momentum=0.1, affine=True, track_running_stats=True)\n",
       "  (batch_norm_4): BatchNorm2d(256, eps=1e-05, momentum=0.1, affine=True, track_running_stats=True)\n",
       ")"
      ]
     },
     "execution_count": 13,
     "metadata": {},
     "output_type": "execute_result"
    }
   ],
   "source": [
    "model = RiceDetector()\n",
    "model.load_state_dict(torch.load(\"models/model_2.pt\"))\n",
    "model.to(\"cuda\")\n"
   ]
  },
  {
   "cell_type": "code",
   "execution_count": null,
   "metadata": {},
   "outputs": [],
   "source": []
  }
 ],
 "metadata": {
  "kernelspec": {
   "display_name": "Python 3",
   "language": "python",
   "name": "python3"
  },
  "language_info": {
   "codemirror_mode": {
    "name": "ipython",
    "version": 3
   },
   "file_extension": ".py",
   "mimetype": "text/x-python",
   "name": "python",
   "nbconvert_exporter": "python",
   "pygments_lexer": "ipython3",
   "version": "3.10.6"
  },
  "orig_nbformat": 4
 },
 "nbformat": 4,
 "nbformat_minor": 2
}
